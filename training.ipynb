{
 "cells": [
  {
   "cell_type": "markdown",
   "source": [
    "## 安装需要的Python库"
   ],
   "metadata": {}
  },
  {
   "cell_type": "code",
   "execution_count": null,
   "source": [
    "!pip install numpy emnist sklearn matplotlib"
   ],
   "outputs": [],
   "metadata": {}
  },
  {
   "cell_type": "markdown",
   "source": [
    "## 导入库"
   ],
   "metadata": {}
  },
  {
   "cell_type": "code",
   "execution_count": null,
   "source": [
    "from emnist import extract_training_samples\r\n",
    "import matplotlib.pyplot as plt\r\n",
    "print('OK')"
   ],
   "outputs": [],
   "metadata": {}
  },
  {
   "cell_type": "markdown",
   "source": [
    "## 下载训练需要的EMNIST图片库，并初步处理数据"
   ],
   "metadata": {}
  },
  {
   "cell_type": "code",
   "execution_count": null,
   "source": [
    "X, y = extract_training_samples('letters')\r\n",
    "\r\n",
    "# 确保像素值都在0和1之间\r\n",
    "X = X / 255.\r\n",
    "\r\n",
    "# 采用前六万份作为样本，剩下的用来测试\r\n",
    "X_train, X_test = X[:60000], X[60000:70000]\r\n",
    "y_train, y_test = y[:60000], y[60000:70000]\r\n",
    "\r\n",
    "# 将数据整理成一维的数组\r\n",
    "X_train = X_train.reshape(60000,784)\r\n",
    "X_test = X_test.reshape(10000,784)\r\n",
    "\r\n",
    "print('OK')"
   ],
   "outputs": [],
   "metadata": {}
  },
  {
   "cell_type": "code",
   "execution_count": null,
   "source": [
    "img_index = 14000 # <<<<<  你可以自己改一下看看\r\n",
    "img = X_train[img_index]\r\n",
    "print(\"Image Label: \" + str(chr(y_train[img_index]+96)))\r\n",
    "plt.imshow(img.reshape((28,28)))"
   ],
   "outputs": [],
   "metadata": {}
  },
  {
   "cell_type": "markdown",
   "source": [
    "## 创建你自己的神经网络"
   ],
   "metadata": {}
  },
  {
   "cell_type": "code",
   "execution_count": null,
   "source": [
    "from sklearn.datasets import fetch_openml\r\n",
    "from sklearn.neural_network import MLPClassifier\r\n",
    "\r\n",
    "# 这行代码创建了我们第一个有1层，50个神经的网络，而且设定要跑20次\r\n",
    "mlp1 = MLPClassifier(hidden_layer_sizes=(50,), max_iter=20, alpha=1e-4,\r\n",
    "                    solver='sgd', verbose=10, tol=1e-4, random_state=1,\r\n",
    "                    learning_rate_init=.1)\r\n",
    "\r\n",
    "print(\"创建成功\")"
   ],
   "outputs": [],
   "metadata": {}
  },
  {
   "cell_type": "markdown",
   "source": [
    "## 开始训练"
   ],
   "metadata": {}
  },
  {
   "cell_type": "code",
   "execution_count": null,
   "source": [
    "mlp1.fit(X_train, y_train)\r\n",
    "print(\"Training set score: %f\" % mlp1.score(X_train, y_train))\r\n",
    "print(\"Test set score: %f\" % mlp1.score(X_test, y_test))"
   ],
   "outputs": [],
   "metadata": {}
  },
  {
   "cell_type": "markdown",
   "source": [
    "## 来看看准确率"
   ],
   "metadata": {}
  },
  {
   "cell_type": "code",
   "execution_count": null,
   "source": [
    "y_pred = mlp1.predict(X_test)\r\n",
    "\r\n",
    "# 可视化一下\r\n",
    "from sklearn.metrics import confusion_matrix\r\n",
    "cm = confusion_matrix(y_test, y_pred)\r\n",
    "plt.matshow(cm)"
   ],
   "outputs": [],
   "metadata": {}
  },
  {
   "cell_type": "code",
   "execution_count": null,
   "source": [
    "# 你可以把这个改成任何你认为神经网络可能搞糊涂的字母...\r\n",
    "predicted_letter = 'u'\r\n",
    "actual_letter = 'v'\r\n",
    "\r\n",
    "# 数一下次数\r\n",
    "mistake_list = []\r\n",
    "for i in range(len(y_test)):\r\n",
    "  if (y_test[i] == (ord(actual_letter) - 96) and y_pred[i] == (ord(predicted_letter) - 96)):\r\n",
    "    mistake_list.append(i)\r\n",
    "print(\"There were \" + str(len(mistake_list)) + \" times that the letter \" + actual_letter + \" was predicted to be the letter \" + predicted_letter + \".\")\r\n",
    "\r\n",
    "# 看一下错误的例子\r\n",
    "mistake_to_show = 0 # <<< 从零开始\r\n",
    "\r\n",
    "# 这行代码会检查你的输入是否正确\r\n",
    "if (len(mistake_list)> mistake_to_show):\r\n",
    "  img = X_test[mistake_list[mistake_to_show]]\r\n",
    "  plt.imshow(img.reshape((28,28)))\r\n",
    "else:\r\n",
    "  print(\"Couldn't show mistake number \" + str(mistake_to_show + 1) + \" because there were only \" + str(len(mistake_list)) + \" mistakes to show!\")"
   ],
   "outputs": [],
   "metadata": {}
  },
  {
   "cell_type": "markdown",
   "source": [
    "## 再来一个"
   ],
   "metadata": {}
  },
  {
   "cell_type": "code",
   "execution_count": null,
   "source": [
    "mlp2 = MLPClassifier(hidden_layer_sizes=(100,100,100,), max_iter=100, alpha=1e-4,\r\n",
    "                    solver='sgd', verbose=10, tol=1e-4, random_state=1,\r\n",
    "                    learning_rate_init=.1)\r\n",
    "mlp2.fit(X_train, y_train)\r\n",
    "print(\"Training set score: %f\" % mlp2.score(X_train, y_train))\r\n",
    "print(\"Test set score: %f\" % mlp2.score(X_test, y_test))"
   ],
   "outputs": [],
   "metadata": {}
  },
  {
   "cell_type": "markdown",
   "source": [
    "## 训练好了，保存一下"
   ],
   "metadata": {}
  },
  {
   "cell_type": "code",
   "execution_count": null,
   "source": [
    "import joblib\r\n",
    "joblib.dump(mlp2, 'character_recognition.joblib')"
   ],
   "outputs": [],
   "metadata": {}
  }
 ],
 "metadata": {
  "orig_nbformat": 4,
  "language_info": {
   "name": "python",
   "version": "3.9.6",
   "mimetype": "text/x-python",
   "codemirror_mode": {
    "name": "ipython",
    "version": 3
   },
   "pygments_lexer": "ipython3",
   "nbconvert_exporter": "python",
   "file_extension": ".py"
  },
  "kernelspec": {
   "name": "python3",
   "display_name": "Python 3.9.6 64-bit (windows store)"
  },
  "interpreter": {
   "hash": "c6aa2226fb893e07f3723f092d22309f7a437fb1d6c73565b6b8473c538d1a26"
  }
 },
 "nbformat": 4,
 "nbformat_minor": 2
}